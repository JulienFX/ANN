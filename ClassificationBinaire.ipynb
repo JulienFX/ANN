{
 "cells": [
  {
   "cell_type": "markdown",
   "id": "a8886600",
   "metadata": {},
   "source": [
    "# Mise en situation :\n",
    "Nous sommes dans le contexte ou l'on a une population de 50 000 hommes de taille comprise entre [54;175] centimètres qui habite la ville A et de taille comprise entre ]175;272] qui habite la ville B\n",
    "\n",
    "# Objectif :\n",
    "Créer un réseau de neurones qui est en capacité de comprendre ce phénomène en classant correctement les habitants en fonction\n",
    "de leur taille. Notre modèle devra analyser les données pour faire le lien entre la taille et le lieu d'habitation \n",
    "chose dont il n'a pas connaissance à son initialisation "
   ]
  },
  {
   "cell_type": "code",
   "execution_count": 12,
   "id": "076595c7",
   "metadata": {},
   "outputs": [],
   "source": [
    "# import des librairies, dans le cadre de ce projet on se basera sur tensorflow \n",
    "import tensorflow\n",
    "import seaborn as sns\n",
    "import random\n",
    "import numpy as np\n",
    "import pandas as pd"
   ]
  },
  {
   "cell_type": "markdown",
   "id": "53a9a97a",
   "metadata": {},
   "source": [
    "# PARTIE 1 : Mise en place du jeu de données "
   ]
  },
  {
   "cell_type": "code",
   "execution_count": 42,
   "id": "5a1420c2",
   "metadata": {},
   "outputs": [
    {
     "data": {
      "text/plain": [
       "<AxesSubplot:ylabel='Count'>"
      ]
     },
     "execution_count": 42,
     "metadata": {},
     "output_type": "execute_result"
    },
    {
     "data": {
      "image/png": "[encoded data removed]",
      "text/plain": [
       "<Figure size 640x480 with 1 Axes>"
      ]
     },
     "metadata": {},
     "output_type": "display_data"
    }
   ],
   "source": [
    "# La taille moyenne des hommes est de 175cm, à l'aide de la loi normale on va reproduire une population conforme à ce qui \n",
    "# pourrait exister dans le monde réel\n",
    "mu, sigma = 175, (272-54)/8 # mu = moyenne / sigma = écart type -> pour simplifier on le calcul de manière empirique \n",
    "simu_norm = np.random.normal(mu,sigma,50000) \n",
    "loiNormalRes = pd.DataFrame(simu_norm,columns=['Valeurs'])\n",
    "sns.histplot(loiNormalRes)"
   ]
  },
  {
   "cell_type": "markdown",
   "id": "109434ac",
   "metadata": {},
   "source": [
    "Dans le graphique '' on se rends compte que la distribution possède + de valeur de grand que de petit ... \n",
    "En effet on a un écart plus important entre 175-54=121 cm d'écart entre le + petit et la norme \n",
    "et 272-175cm d'écart entre le + grand et la norme ce qui explique "
   ]
  },
  {
   "cell_type": "code",
   "execution_count": 44,
   "id": "c4c42946",
   "metadata": {},
   "outputs": [
    {
     "name": "stderr",
     "output_type": "stream",
     "text": [
      "C:\\Users\\jujus\\Anaconda3\\envs\\dvtai\\lib\\site-packages\\numpy\\core\\fromnumeric.py:84: FutureWarning: In a future version, DataFrame.min(axis=None) will return a scalar min over the entire DataFrame. To retain the old behavior, use 'frame.min(axis=0)' or just 'frame.min()'\n",
      "  return reduction(axis=axis, out=out, **passkwargs)\n"
     ]
    },
    {
     "data": {
      "text/plain": [
       "Valeurs    69.30362\n",
       "dtype: float64"
      ]
     },
     "execution_count": 44,
     "metadata": {},
     "output_type": "execute_result"
    }
   ],
   "source": [
    "np.min(loiNormalRes)"
   ]
  },
  {
   "cell_type": "code",
   "execution_count": 46,
   "id": "bbe04347",
   "metadata": {},
   "outputs": [
    {
     "data": {
      "text/html": [
       "<div>\n",
       "<style scoped>\n",
       "    .dataframe tbody tr th:only-of-type {\n",
       "        vertical-align: middle;\n",
       "    }\n",
       "\n",
       "    .dataframe tbody tr th {\n",
       "        vertical-align: top;\n",
       "    }\n",
       "\n",
       "    .dataframe thead th {\n",
       "        text-align: right;\n",
       "    }\n",
       "</style>\n",
       "<table border=\"1\" class=\"dataframe\">\n",
       "  <thead>\n",
       "    <tr style=\"text-align: right;\">\n",
       "      <th></th>\n",
       "      <th>Valeurs</th>\n",
       "    </tr>\n",
       "  </thead>\n",
       "  <tbody>\n",
       "    <tr>\n",
       "      <th>0</th>\n",
       "      <td>218.039455</td>\n",
       "    </tr>\n",
       "    <tr>\n",
       "      <th>1</th>\n",
       "      <td>172.840093</td>\n",
       "    </tr>\n",
       "    <tr>\n",
       "      <th>2</th>\n",
       "      <td>209.044143</td>\n",
       "    </tr>\n",
       "    <tr>\n",
       "      <th>3</th>\n",
       "      <td>197.159842</td>\n",
       "    </tr>\n",
       "    <tr>\n",
       "      <th>4</th>\n",
       "      <td>179.594040</td>\n",
       "    </tr>\n",
       "  </tbody>\n",
       "</table>\n",
       "</div>"
      ],
      "text/plain": [
       "      Valeurs\n",
       "0  218.039455\n",
       "1  172.840093\n",
       "2  209.044143\n",
       "3  197.159842\n",
       "4  179.594040"
      ]
     },
     "execution_count": 46,
     "metadata": {},
     "output_type": "execute_result"
    }
   ],
   "source": [
    "loiNormalRes.head()"
   ]
  },
  {
   "cell_type": "code",
   "execution_count": null,
   "id": "7d82ee20",
   "metadata": {},
   "outputs": [],
   "source": [
    "# TODO : Clean les données \n",
    "# "
   ]
  }
 ],
 "metadata": {
  "kernelspec": {
   "display_name": "Python 3 (ipykernel)",
   "language": "python",
   "name": "python3"
  },
  "language_info": {
   "codemirror_mode": {
    "name": "ipython",
    "version": 3
   },
   "file_extension": ".py",
   "mimetype": "text/x-python",
   "name": "python",
   "nbconvert_exporter": "python",
   "pygments_lexer": "ipython3",
   "version": "3.9.13"
  }
 },
 "nbformat": 4,
 "nbformat_minor": 5
}
