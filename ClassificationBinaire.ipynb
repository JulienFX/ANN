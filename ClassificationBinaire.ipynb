{
 "cells": [
  {
   "cell_type": "markdown",
   "id": "1d76b3b3",
   "metadata": {},
   "source": [
    "# Mise en situation :\n",
    "Nous sommes dans le contexte ou l'on a une population de 50 000 hommes de taille comprise entre [54;175] centimètres qui habite la ville A et de taille comprise entre ]175;272] qui habite la ville B\n",
    "\n",
    "# Objectif :\n",
    "Créer un réseau de neurones qui est en capacité de comprendre ce phénomène en classant correctement les habitants en fonction\n",
    "de leur taille. Notre modèle devra analyser les données pour faire le lien entre la taille et le lieu d'habitation \n",
    "chose dont il n'a pas connaissance à son initialisation "
   ]
  },
  {
   "cell_type": "code",
   "execution_count": 12,
   "id": "1f895a6a",
   "metadata": {},
   "outputs": [],
   "source": [
    "# import des librairies, dans le cadre de ce projet on se basera sur tensorflow \n",
    "import tensorflow\n",
    "import seaborn as sns\n",
    "import random\n",
    "import numpy as np\n",
    "import pandas as pd\n",
    "import matplotlib.pyplot as plt "
   ]
  },
  {
   "cell_type": "markdown",
   "id": "43230187",
   "metadata": {},
   "source": [
    "# PARTIE 1 : "
   ]
  },
  {
   "cell_type": "markdown",
   "id": "49c8866b",
   "metadata": {},
   "source": [
    "# Mise en place du jeu de données "
   ]
  },
  {
   "cell_type": "code",
   "execution_count": 13,
   "id": "09990ce2",
   "metadata": {},
   "outputs": [
    {
     "data": {
      "image/png": "[encoded data removed]",
      "text/plain": [
       "<Figure size 640x480 with 1 Axes>"
      ]
     },
     "metadata": {},
     "output_type": "display_data"
    }
   ],
   "source": [
    "# La taille moyenne des hommes est de 175cm, à l'aide de la loi normale on va reproduire une population conforme à ce qui \n",
    "# pourrait exister dans le monde réel\n",
    "mu, sigma = 175, (272-54)/8 # mu = moyenne / sigma = écart type -> pour simplifier on le calcul de manière empirique\n",
    "# en nous n'avons pas de données donc le calcul de l'écart-type ne peut que se déduire\n",
    "simu_norm = np.random.normal(mu,sigma,50000) \n",
    "loiNormalRes = pd.DataFrame(simu_norm,columns=['Taille'])\n",
    "sns.histplot(loiNormalRes)\n",
    "plt.title('Graphique 1 : Représentation de la population - Loi normale')\n",
    "plt.xlabel('Tailles des hommes')\n",
    "plt.ylabel('Total')\n",
    "plt.xticks(range(0, 350, 25)) # ici j'ai choisi 350 = 175 * 2 pour avoir centre graphiquement ma loi normale\n",
    "plt.show()"
   ]
  },
  {
   "cell_type": "markdown",
   "id": "4b98a581",
   "metadata": {},
   "source": [
    "Dans le graphique 1 on se rends compte que la distribution possède + de valeur de grand que de petit ... \n",
    "En effet on a un écart plus important entre 175-54=121 cm d'écart entre le + petit et la norme \n",
    "et 272-175cm d'écart entre le + grand et la norme ce qui explique une répartition plus importante chez les grands "
   ]
  },
  {
   "cell_type": "code",
   "execution_count": 14,
   "id": "ccb53b30",
   "metadata": {},
   "outputs": [
    {
     "data": {
      "text/html": [
       "<div>\n",
       "<style scoped>\n",
       "    .dataframe tbody tr th:only-of-type {\n",
       "        vertical-align: middle;\n",
       "    }\n",
       "\n",
       "    .dataframe tbody tr th {\n",
       "        vertical-align: top;\n",
       "    }\n",
       "\n",
       "    .dataframe thead th {\n",
       "        text-align: right;\n",
       "    }\n",
       "</style>\n",
       "<table border=\"1\" class=\"dataframe\">\n",
       "  <thead>\n",
       "    <tr style=\"text-align: right;\">\n",
       "      <th></th>\n",
       "      <th>Taille</th>\n",
       "    </tr>\n",
       "  </thead>\n",
       "  <tbody>\n",
       "    <tr>\n",
       "      <th>count</th>\n",
       "      <td>50000.000000</td>\n",
       "    </tr>\n",
       "    <tr>\n",
       "      <th>mean</th>\n",
       "      <td>174.978690</td>\n",
       "    </tr>\n",
       "    <tr>\n",
       "      <th>std</th>\n",
       "      <td>27.245272</td>\n",
       "    </tr>\n",
       "    <tr>\n",
       "      <th>min</th>\n",
       "      <td>62.670764</td>\n",
       "    </tr>\n",
       "    <tr>\n",
       "      <th>25%</th>\n",
       "      <td>156.501185</td>\n",
       "    </tr>\n",
       "    <tr>\n",
       "      <th>50%</th>\n",
       "      <td>174.921304</td>\n",
       "    </tr>\n",
       "    <tr>\n",
       "      <th>75%</th>\n",
       "      <td>193.367139</td>\n",
       "    </tr>\n",
       "    <tr>\n",
       "      <th>max</th>\n",
       "      <td>303.662384</td>\n",
       "    </tr>\n",
       "  </tbody>\n",
       "</table>\n",
       "</div>"
      ],
      "text/plain": [
       "             Taille\n",
       "count  50000.000000\n",
       "mean     174.978690\n",
       "std       27.245272\n",
       "min       62.670764\n",
       "25%      156.501185\n",
       "50%      174.921304\n",
       "75%      193.367139\n",
       "max      303.662384"
      ]
     },
     "execution_count": 14,
     "metadata": {},
     "output_type": "execute_result"
    }
   ],
   "source": [
    "loiNormalRes.describe()"
   ]
  },
  {
   "cell_type": "markdown",
   "id": "43710387",
   "metadata": {},
   "source": [
    "On remarque qu'il y a des données qui dépassent le seuil que nous avions fixé dans notre mise en situation.\n",
    "Ainsi nous allons donc devoir procéder à un nettoyage des données "
   ]
  },
  {
   "cell_type": "markdown",
   "id": "f3b4ec5b",
   "metadata": {},
   "source": [
    "# Nettoyage du jeu de données "
   ]
  },
  {
   "cell_type": "code",
   "execution_count": 15,
   "id": "0955e54f",
   "metadata": {},
   "outputs": [
    {
     "data": {
      "text/html": [
       "<div>\n",
       "<style scoped>\n",
       "    .dataframe tbody tr th:only-of-type {\n",
       "        vertical-align: middle;\n",
       "    }\n",
       "\n",
       "    .dataframe tbody tr th {\n",
       "        vertical-align: top;\n",
       "    }\n",
       "\n",
       "    .dataframe thead th {\n",
       "        text-align: right;\n",
       "    }\n",
       "</style>\n",
       "<table border=\"1\" class=\"dataframe\">\n",
       "  <thead>\n",
       "    <tr style=\"text-align: right;\">\n",
       "      <th></th>\n",
       "      <th>Taille</th>\n",
       "    </tr>\n",
       "  </thead>\n",
       "  <tbody>\n",
       "    <tr>\n",
       "      <th>count</th>\n",
       "      <td>49995.000000</td>\n",
       "    </tr>\n",
       "    <tr>\n",
       "      <th>mean</th>\n",
       "      <td>174.967653</td>\n",
       "    </tr>\n",
       "    <tr>\n",
       "      <th>std</th>\n",
       "      <td>27.224062</td>\n",
       "    </tr>\n",
       "    <tr>\n",
       "      <th>min</th>\n",
       "      <td>62.670764</td>\n",
       "    </tr>\n",
       "    <tr>\n",
       "      <th>25%</th>\n",
       "      <td>156.499234</td>\n",
       "    </tr>\n",
       "    <tr>\n",
       "      <th>50%</th>\n",
       "      <td>174.916789</td>\n",
       "    </tr>\n",
       "    <tr>\n",
       "      <th>75%</th>\n",
       "      <td>193.363768</td>\n",
       "    </tr>\n",
       "    <tr>\n",
       "      <th>max</th>\n",
       "      <td>269.271344</td>\n",
       "    </tr>\n",
       "  </tbody>\n",
       "</table>\n",
       "</div>"
      ],
      "text/plain": [
       "             Taille\n",
       "count  49995.000000\n",
       "mean     174.967653\n",
       "std       27.224062\n",
       "min       62.670764\n",
       "25%      156.499234\n",
       "50%      174.916789\n",
       "75%      193.363768\n",
       "max      269.271344"
      ]
     },
     "execution_count": 15,
     "metadata": {},
     "output_type": "execute_result"
    }
   ],
   "source": [
    "df_filtre = loiNormalRes.loc[(loiNormalRes['Taille'] <= 272) & (loiNormalRes['Taille'] >= 54)]\n",
    "df_filtre.describe()"
   ]
  },
  {
   "cell_type": "code",
   "execution_count": 16,
   "id": "1604de28",
   "metadata": {},
   "outputs": [
    {
     "data": {
      "image/png": "[encoded data removed]",
      "text/plain": [
       "<Figure size 640x480 with 1 Axes>"
      ]
     },
     "metadata": {},
     "output_type": "display_data"
    }
   ],
   "source": [
    "sns.histplot(df_filtre)\n",
    "plt.title('Graphique 2 : Représentation de la population après nettoyage - Loi normale')\n",
    "plt.xlabel('Tailles des hommes')\n",
    "plt.ylabel('Total')\n",
    "plt.xticks(range(0, 350, 25)) # ici j'ai choisi 350 = 175 * 2 pour centrer graphiquement ma loi normale\n",
    "plt.show()"
   ]
  },
  {
   "cell_type": "markdown",
   "id": "fdfeadd9",
   "metadata": {},
   "source": [
    "Maintenant on va chercher à labeliser nos données. Soit \"Ville A : 0\" et \"Ville B : 1\"."
   ]
  },
  {
   "cell_type": "code",
   "execution_count": 17,
   "id": "fb40d296",
   "metadata": {},
   "outputs": [
    {
     "data": {
      "text/html": [
       "<div>\n",
       "<style scoped>\n",
       "    .dataframe tbody tr th:only-of-type {\n",
       "        vertical-align: middle;\n",
       "    }\n",
       "\n",
       "    .dataframe tbody tr th {\n",
       "        vertical-align: top;\n",
       "    }\n",
       "\n",
       "    .dataframe thead th {\n",
       "        text-align: right;\n",
       "    }\n",
       "</style>\n",
       "<table border=\"1\" class=\"dataframe\">\n",
       "  <thead>\n",
       "    <tr style=\"text-align: right;\">\n",
       "      <th></th>\n",
       "      <th>Taille</th>\n",
       "    </tr>\n",
       "  </thead>\n",
       "  <tbody>\n",
       "    <tr>\n",
       "      <th>0</th>\n",
       "      <td>192.505294</td>\n",
       "    </tr>\n",
       "    <tr>\n",
       "      <th>1</th>\n",
       "      <td>202.615278</td>\n",
       "    </tr>\n",
       "    <tr>\n",
       "      <th>2</th>\n",
       "      <td>168.543637</td>\n",
       "    </tr>\n",
       "    <tr>\n",
       "      <th>3</th>\n",
       "      <td>215.179078</td>\n",
       "    </tr>\n",
       "    <tr>\n",
       "      <th>4</th>\n",
       "      <td>216.099327</td>\n",
       "    </tr>\n",
       "  </tbody>\n",
       "</table>\n",
       "</div>"
      ],
      "text/plain": [
       "       Taille\n",
       "0  192.505294\n",
       "1  202.615278\n",
       "2  168.543637\n",
       "3  215.179078\n",
       "4  216.099327"
      ]
     },
     "execution_count": 17,
     "metadata": {},
     "output_type": "execute_result"
    }
   ],
   "source": [
    "# Df avant modification\n",
    "df_filtre.head()"
   ]
  },
  {
   "cell_type": "code",
   "execution_count": 20,
   "id": "a0170a08",
   "metadata": {},
   "outputs": [],
   "source": [
    "df_filtre.loc[df_filtre[\"Taille\"]<=175,'Label'] = 0 # ville A\n",
    "df_filtre.loc[df_filtre[\"Taille\"]>175,'Label'] = 1 # ville B"
   ]
  },
  {
   "cell_type": "code",
   "execution_count": 22,
   "id": "12959b4d",
   "metadata": {},
   "outputs": [
    {
     "data": {
      "text/html": [
       "<div>\n",
       "<style scoped>\n",
       "    .dataframe tbody tr th:only-of-type {\n",
       "        vertical-align: middle;\n",
       "    }\n",
       "\n",
       "    .dataframe tbody tr th {\n",
       "        vertical-align: top;\n",
       "    }\n",
       "\n",
       "    .dataframe thead th {\n",
       "        text-align: right;\n",
       "    }\n",
       "</style>\n",
       "<table border=\"1\" class=\"dataframe\">\n",
       "  <thead>\n",
       "    <tr style=\"text-align: right;\">\n",
       "      <th></th>\n",
       "      <th>Taille</th>\n",
       "      <th>Label</th>\n",
       "    </tr>\n",
       "  </thead>\n",
       "  <tbody>\n",
       "    <tr>\n",
       "      <th>49995</th>\n",
       "      <td>163.211664</td>\n",
       "      <td>0.0</td>\n",
       "    </tr>\n",
       "    <tr>\n",
       "      <th>49996</th>\n",
       "      <td>186.707449</td>\n",
       "      <td>1.0</td>\n",
       "    </tr>\n",
       "    <tr>\n",
       "      <th>49997</th>\n",
       "      <td>128.659691</td>\n",
       "      <td>0.0</td>\n",
       "    </tr>\n",
       "    <tr>\n",
       "      <th>49998</th>\n",
       "      <td>198.360854</td>\n",
       "      <td>1.0</td>\n",
       "    </tr>\n",
       "    <tr>\n",
       "      <th>49999</th>\n",
       "      <td>158.161636</td>\n",
       "      <td>0.0</td>\n",
       "    </tr>\n",
       "  </tbody>\n",
       "</table>\n",
       "</div>"
      ],
      "text/plain": [
       "           Taille  Label\n",
       "49995  163.211664    0.0\n",
       "49996  186.707449    1.0\n",
       "49997  128.659691    0.0\n",
       "49998  198.360854    1.0\n",
       "49999  158.161636    0.0"
      ]
     },
     "execution_count": 22,
     "metadata": {},
     "output_type": "execute_result"
    }
   ],
   "source": [
    "# df après modification\n",
    "df_filtre.tail()"
   ]
  },
  {
   "cell_type": "code",
   "execution_count": null,
   "id": "539a0a97",
   "metadata": {},
   "outputs": [],
   "source": []
  }
 ],
 "metadata": {
  "kernelspec": {
   "display_name": "Python 3 (ipykernel)",
   "language": "python",
   "name": "python3"
  },
  "language_info": {
   "codemirror_mode": {
    "name": "ipython",
    "version": 3
   },
   "file_extension": ".py",
   "mimetype": "text/x-python",
   "name": "python",
   "nbconvert_exporter": "python",
   "pygments_lexer": "ipython3",
   "version": "3.9.13"
  }
 },
 "nbformat": 4,
 "nbformat_minor": 5
}
