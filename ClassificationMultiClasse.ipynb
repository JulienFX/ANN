{
 "cells": [
  {
   "cell_type": "markdown",
   "id": "990c36c6",
   "metadata": {},
   "source": [
    "# Mise en situation : \n",
    "Nous sommes dans le contexte où des coureurs parcours une certaine distance et reçoivent un certain \n",
    "classement en fonction de la distance parcourue. <br>\n",
    "Entre [0;25] kms -> D <br>\n",
    "Entre ]25;50] kms -> C <br>\n",
    "Entre ]50;75] kms -> B <br>\n",
    "Entre ]75;100] kms -> A \n",
    "\n",
    "# Objectif :\n",
    "Créer un réseau de neurones qui est en capacité de comprendre ce phénomène en faisant de la classification multi-classe correctement pour les coureurs en fonction de leur distance parcourue. Notre modèle devra analyser les données pour faire le lien entre les kilomètres et le classement en conséquence, chose dont il n'a pas connaissance à son initialisation. Nous nous baserons sur la librairie pytorch pour exécuter notre plan."
   ]
  },
  {
   "cell_type": "code",
   "execution_count": 23,
   "id": "e3333474",
   "metadata": {},
   "outputs": [],
   "source": [
    "# import des librairies\n",
    "import torch\n",
    "import torch.nn as nn\n",
    "import torch.optim as optim\n",
    "import random\n",
    "import numpy as np\n",
    "import pandas as pd "
   ]
  },
  {
   "cell_type": "markdown",
   "id": "a0a240a2",
   "metadata": {},
   "source": [
    "# PARTIE 1 : "
   ]
  },
  {
   "cell_type": "markdown",
   "id": "92dfd64c",
   "metadata": {},
   "source": [
    "# Mise en place du jeu de données"
   ]
  },
  {
   "cell_type": "code",
   "execution_count": 17,
   "id": "37485974",
   "metadata": {},
   "outputs": [
    {
     "data": {
      "text/html": [
       "<div>\n",
       "<style scoped>\n",
       "    .dataframe tbody tr th:only-of-type {\n",
       "        vertical-align: middle;\n",
       "    }\n",
       "\n",
       "    .dataframe tbody tr th {\n",
       "        vertical-align: top;\n",
       "    }\n",
       "\n",
       "    .dataframe thead th {\n",
       "        text-align: right;\n",
       "    }\n",
       "</style>\n",
       "<table border=\"1\" class=\"dataframe\">\n",
       "  <thead>\n",
       "    <tr style=\"text-align: right;\">\n",
       "      <th></th>\n",
       "      <th>kilometres</th>\n",
       "    </tr>\n",
       "  </thead>\n",
       "  <tbody>\n",
       "    <tr>\n",
       "      <th>0</th>\n",
       "      <td>24.932728</td>\n",
       "    </tr>\n",
       "    <tr>\n",
       "      <th>1</th>\n",
       "      <td>20.039280</td>\n",
       "    </tr>\n",
       "    <tr>\n",
       "      <th>2</th>\n",
       "      <td>61.909641</td>\n",
       "    </tr>\n",
       "    <tr>\n",
       "      <th>3</th>\n",
       "      <td>89.454986</td>\n",
       "    </tr>\n",
       "    <tr>\n",
       "      <th>4</th>\n",
       "      <td>21.024683</td>\n",
       "    </tr>\n",
       "  </tbody>\n",
       "</table>\n",
       "</div>"
      ],
      "text/plain": [
       "   kilometres\n",
       "0   24.932728\n",
       "1   20.039280\n",
       "2   61.909641\n",
       "3   89.454986\n",
       "4   21.024683"
      ]
     },
     "execution_count": 17,
     "metadata": {},
     "output_type": "execute_result"
    }
   ],
   "source": [
    "# Génération des kilomètres (kms) aléatoirement\n",
    "kms = np.random.uniform(1, 100, 10000)\n",
    "df = pd.DataFrame({'kilometres': kms})\n",
    "df.head()"
   ]
  },
  {
   "cell_type": "code",
   "execution_count": 21,
   "id": "85cb75f9",
   "metadata": {},
   "outputs": [],
   "source": [
    "def label_kms(km):\n",
    "    if 0 <= km <= 25:\n",
    "        return 4\n",
    "    elif 25 < km <= 50:\n",
    "        return 3\n",
    "    elif 50 < km <= 75:\n",
    "        return 2\n",
    "    else :\n",
    "        return 1"
   ]
  },
  {
   "cell_type": "code",
   "execution_count": 22,
   "id": "e82eaa93",
   "metadata": {},
   "outputs": [
    {
     "data": {
      "text/html": [
       "<div>\n",
       "<style scoped>\n",
       "    .dataframe tbody tr th:only-of-type {\n",
       "        vertical-align: middle;\n",
       "    }\n",
       "\n",
       "    .dataframe tbody tr th {\n",
       "        vertical-align: top;\n",
       "    }\n",
       "\n",
       "    .dataframe thead th {\n",
       "        text-align: right;\n",
       "    }\n",
       "</style>\n",
       "<table border=\"1\" class=\"dataframe\">\n",
       "  <thead>\n",
       "    <tr style=\"text-align: right;\">\n",
       "      <th></th>\n",
       "      <th>kilometres</th>\n",
       "      <th>label</th>\n",
       "    </tr>\n",
       "  </thead>\n",
       "  <tbody>\n",
       "    <tr>\n",
       "      <th>0</th>\n",
       "      <td>24.932728</td>\n",
       "      <td>4</td>\n",
       "    </tr>\n",
       "    <tr>\n",
       "      <th>1</th>\n",
       "      <td>20.039280</td>\n",
       "      <td>4</td>\n",
       "    </tr>\n",
       "    <tr>\n",
       "      <th>2</th>\n",
       "      <td>61.909641</td>\n",
       "      <td>2</td>\n",
       "    </tr>\n",
       "    <tr>\n",
       "      <th>3</th>\n",
       "      <td>89.454986</td>\n",
       "      <td>1</td>\n",
       "    </tr>\n",
       "    <tr>\n",
       "      <th>4</th>\n",
       "      <td>21.024683</td>\n",
       "      <td>4</td>\n",
       "    </tr>\n",
       "  </tbody>\n",
       "</table>\n",
       "</div>"
      ],
      "text/plain": [
       "   kilometres  label\n",
       "0   24.932728      4\n",
       "1   20.039280      4\n",
       "2   61.909641      2\n",
       "3   89.454986      1\n",
       "4   21.024683      4"
      ]
     },
     "execution_count": 22,
     "metadata": {},
     "output_type": "execute_result"
    }
   ],
   "source": [
    "# mise en place des labels \n",
    "# 4 -> D / 3 -> C / 2 -> B / 1 -> A\n",
    "df['label'] = df['kilometres'].apply(label_kms) #la fonction apply prends ce qu'il y a en ammont comme argument de fonction\n",
    "df.head()"
   ]
  },
  {
   "cell_type": "code",
   "execution_count": null,
   "id": "c971353f",
   "metadata": {},
   "outputs": [],
   "source": []
  }
 ],
 "metadata": {
  "kernelspec": {
   "display_name": "Python 3 (ipykernel)",
   "language": "python",
   "name": "python3"
  },
  "language_info": {
   "codemirror_mode": {
    "name": "ipython",
    "version": 3
   },
   "file_extension": ".py",
   "mimetype": "text/x-python",
   "name": "python",
   "nbconvert_exporter": "python",
   "pygments_lexer": "ipython3",
   "version": "3.9.13"
  }
 },
 "nbformat": 4,
 "nbformat_minor": 5
}
