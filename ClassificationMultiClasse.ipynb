{
 "cells": [
  {
   "cell_type": "markdown",
   "id": "990c36c6",
   "metadata": {},
   "source": [
    "# Mise en situation : \n",
    "Nous sommes dans le contexte où des coureurs parcours une certaine distance et reçoivent un certain \n",
    "classement en fonction de la distance parcourue. <br>\n",
    "Entre [0;25] kms -> D <br>\n",
    "Entre ]25;50] kms -> C <br>\n",
    "Entre ]50;75] kms -> B <br>\n",
    "Entre ]75;100] kms -> A \n",
    "\n",
    "# Objectif :\n",
    "Créer un réseau de neurones qui est en capacité de comprendre ce phénomène en faisant de la classification multi-classe correctement pour les coureurs en fonction de leur distance parcourue. Notre modèle devra analyser les données pour faire le lien entre les kilomètres et le classement en conséquence, chose dont il n'a pas connaissance à son initialisation. Nous nous baserons sur la librairie pytorch pour exécuter notre plan."
   ]
  },
  {
   "cell_type": "markdown",
   "id": "cf47b4de",
   "metadata": {},
   "source": []
  }
 ],
 "metadata": {
  "kernelspec": {
   "display_name": "Python 3 (ipykernel)",
   "language": "python",
   "name": "python3"
  },
  "language_info": {
   "codemirror_mode": {
    "name": "ipython",
    "version": 3
   },
   "file_extension": ".py",
   "mimetype": "text/x-python",
   "name": "python",
   "nbconvert_exporter": "python",
   "pygments_lexer": "ipython3",
   "version": "3.9.13"
  }
 },
 "nbformat": 4,
 "nbformat_minor": 5
}
