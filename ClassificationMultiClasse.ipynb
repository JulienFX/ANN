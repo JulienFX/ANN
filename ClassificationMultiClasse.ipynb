{
 "cells": [
  {
   "cell_type": "markdown",
   "id": "990c36c6",
   "metadata": {},
   "source": [
    "# Mise en situation : \n",
    "Nous sommes dans le contexte où des coureurs parcours une certaine distance et reçoivent un certain \n",
    "classement en fonction de la distance parcourue. <br>\n",
    "Entre [0;25] kms -> D <br>\n",
    "Entre ]25;50] kms -> C <br>\n",
    "Entre ]50;75] kms -> B <br>\n",
    "Entre ]75;100] kms -> A \n",
    "\n",
    "# Objectif :\n",
    "Créer un réseau de neurones qui est en capacité de comprendre ce phénomène en faisant de la classification multi-classe correctement pour les coureurs en fonction de leur distance parcourue. Notre modèle devra analyser les données pour faire le lien entre les kilomètres et le classement en conséquence, chose dont il n'a pas connaissance à son initialisation. Nous nous baserons sur la librairie pytorch pour exécuter notre plan."
   ]
  },
  {
   "cell_type": "code",
   "execution_count": 20,
   "id": "e3333474",
   "metadata": {},
   "outputs": [],
   "source": [
    "# import des librairies\n",
    "import torch\n",
    "import torch.nn as nn\n",
    "import torch.optim as optim\n",
    "from torch.utils.data import DataLoader, TensorDataset\n",
    "import random\n",
    "import numpy as np\n",
    "import pandas as pd "
   ]
  },
  {
   "cell_type": "markdown",
   "id": "a0a240a2",
   "metadata": {},
   "source": [
    "# PARTIE 1 : "
   ]
  },
  {
   "cell_type": "markdown",
   "id": "92dfd64c",
   "metadata": {},
   "source": [
    "# Mise en place du jeu de données"
   ]
  },
  {
   "cell_type": "code",
   "execution_count": 3,
   "id": "37485974",
   "metadata": {},
   "outputs": [
    {
     "data": {
      "text/html": [
       "<div>\n",
       "<style scoped>\n",
       "    .dataframe tbody tr th:only-of-type {\n",
       "        vertical-align: middle;\n",
       "    }\n",
       "\n",
       "    .dataframe tbody tr th {\n",
       "        vertical-align: top;\n",
       "    }\n",
       "\n",
       "    .dataframe thead th {\n",
       "        text-align: right;\n",
       "    }\n",
       "</style>\n",
       "<table border=\"1\" class=\"dataframe\">\n",
       "  <thead>\n",
       "    <tr style=\"text-align: right;\">\n",
       "      <th></th>\n",
       "      <th>kilometres</th>\n",
       "    </tr>\n",
       "  </thead>\n",
       "  <tbody>\n",
       "    <tr>\n",
       "      <th>0</th>\n",
       "      <td>24.009090</td>\n",
       "    </tr>\n",
       "    <tr>\n",
       "      <th>1</th>\n",
       "      <td>85.705398</td>\n",
       "    </tr>\n",
       "    <tr>\n",
       "      <th>2</th>\n",
       "      <td>10.725875</td>\n",
       "    </tr>\n",
       "    <tr>\n",
       "      <th>3</th>\n",
       "      <td>46.847727</td>\n",
       "    </tr>\n",
       "    <tr>\n",
       "      <th>4</th>\n",
       "      <td>17.895625</td>\n",
       "    </tr>\n",
       "  </tbody>\n",
       "</table>\n",
       "</div>"
      ],
      "text/plain": [
       "   kilometres\n",
       "0   24.009090\n",
       "1   85.705398\n",
       "2   10.725875\n",
       "3   46.847727\n",
       "4   17.895625"
      ]
     },
     "execution_count": 3,
     "metadata": {},
     "output_type": "execute_result"
    }
   ],
   "source": [
    "# Génération des kilomètres (kms) aléatoirement\n",
    "kms = np.random.uniform(1, 100, 10000)\n",
    "df = pd.DataFrame({'kilometres': kms})\n",
    "df.head()"
   ]
  },
  {
   "cell_type": "code",
   "execution_count": 4,
   "id": "85cb75f9",
   "metadata": {},
   "outputs": [],
   "source": [
    "def label_kms(km):\n",
    "    if 0 <= km <= 25:\n",
    "        return 4\n",
    "    elif 25 < km <= 50:\n",
    "        return 3\n",
    "    elif 50 < km <= 75:\n",
    "        return 2\n",
    "    else :\n",
    "        return 1"
   ]
  },
  {
   "cell_type": "code",
   "execution_count": 5,
   "id": "e82eaa93",
   "metadata": {},
   "outputs": [
    {
     "data": {
      "text/html": [
       "<div>\n",
       "<style scoped>\n",
       "    .dataframe tbody tr th:only-of-type {\n",
       "        vertical-align: middle;\n",
       "    }\n",
       "\n",
       "    .dataframe tbody tr th {\n",
       "        vertical-align: top;\n",
       "    }\n",
       "\n",
       "    .dataframe thead th {\n",
       "        text-align: right;\n",
       "    }\n",
       "</style>\n",
       "<table border=\"1\" class=\"dataframe\">\n",
       "  <thead>\n",
       "    <tr style=\"text-align: right;\">\n",
       "      <th></th>\n",
       "      <th>kilometres</th>\n",
       "      <th>label</th>\n",
       "    </tr>\n",
       "  </thead>\n",
       "  <tbody>\n",
       "    <tr>\n",
       "      <th>0</th>\n",
       "      <td>24.009090</td>\n",
       "      <td>4</td>\n",
       "    </tr>\n",
       "    <tr>\n",
       "      <th>1</th>\n",
       "      <td>85.705398</td>\n",
       "      <td>1</td>\n",
       "    </tr>\n",
       "    <tr>\n",
       "      <th>2</th>\n",
       "      <td>10.725875</td>\n",
       "      <td>4</td>\n",
       "    </tr>\n",
       "    <tr>\n",
       "      <th>3</th>\n",
       "      <td>46.847727</td>\n",
       "      <td>3</td>\n",
       "    </tr>\n",
       "    <tr>\n",
       "      <th>4</th>\n",
       "      <td>17.895625</td>\n",
       "      <td>4</td>\n",
       "    </tr>\n",
       "  </tbody>\n",
       "</table>\n",
       "</div>"
      ],
      "text/plain": [
       "   kilometres  label\n",
       "0   24.009090      4\n",
       "1   85.705398      1\n",
       "2   10.725875      4\n",
       "3   46.847727      3\n",
       "4   17.895625      4"
      ]
     },
     "execution_count": 5,
     "metadata": {},
     "output_type": "execute_result"
    }
   ],
   "source": [
    "# mise en place des labels \n",
    "# 4 -> D / 3 -> C / 2 -> B / 1 -> A\n",
    "df['label'] = df['kilometres'].apply(label_kms) #la fonction apply prends ce qu'il y a en ammont comme argument de fonction\n",
    "df.head()"
   ]
  },
  {
   "cell_type": "code",
   "execution_count": 27,
   "id": "2c1dd848",
   "metadata": {},
   "outputs": [],
   "source": [
    "# Mise en forme sous forme de tableau\n",
    "# reshape attend en argument (ligne, colonne). Ici le -1 pour reshape signifie que le nb de ligne est calculé automatiquement\n",
    "entreeCaracteristique = df['kilometres'].values.reshape(-1, 1).astype(np.float32) # feature\n",
    "# Ici pas besoin de reshape car dans le contexte d'un réseau de neurones PyTorch, la plupart des fonctions de perte \n",
    "# et des optimiseurs sont flexibles quant à la forme des étiquettes, et on peut souvent utiliser des étiquettes \n",
    "# unidimensionnelles sans problème.\n",
    "labels = df['label'].values.astype(np.int64)"
   ]
  },
  {
   "cell_type": "code",
   "execution_count": 28,
   "id": "db84d962",
   "metadata": {},
   "outputs": [],
   "source": [
    "# Mise en forme sous forme de tenseur\n",
    "x_entrainement = torch.from_numpy(entreeCaracteristique)\n",
    "y_entrainement = torch.from_numpy(labels)"
   ]
  },
  {
   "cell_type": "markdown",
   "id": "df69fbcc",
   "metadata": {},
   "source": [
    "# Partie 2 "
   ]
  },
  {
   "cell_type": "markdown",
   "id": "425a3399",
   "metadata": {},
   "source": [
    "# Mise en place du réseau de neurones"
   ]
  },
  {
   "cell_type": "code",
   "execution_count": 29,
   "id": "37193630",
   "metadata": {},
   "outputs": [],
   "source": [
    "# DataLoader est une classe de PyTorch qui facilite la gestion des données d'entraînement lors de l'apprentissage d'un modèle\n",
    "dataset = TensorDataset(x_entrainement, y_entrainement)\n",
    "dataloader = DataLoader(dataset, batch_size=64) "
   ]
  },
  {
   "cell_type": "code",
   "execution_count": 33,
   "id": "3b377b15",
   "metadata": {},
   "outputs": [],
   "source": [
    "# Modèle\n",
    "class SimpleNN(nn.Module):\n",
    "    def __init__(self, nb_caracteristique_entree, nb_neurones_couche1, nb_neurones_couche2, nb_neurones_couche3, nbSortiesLabels):\n",
    "        #super(SimpleNN, self).__init__()\n",
    "        self.fc1 = nn.Linear(nb_caracteristique_entree, nb_neurones_couche1) # couche 1 \n",
    "        self.relu = nn.ReLU()\n",
    "        self.fc2 = nn.Linear(nb_neurones_couche1, nb_neurones_couche2) # couche 2\n",
    "        self.sigmoid = nn.Sigmoid()\n",
    "        self.fc3 = nn.Linear(nb_neurones_couche2, nb_neurones_couche3)\n",
    "        self.fc3 = nn.ReLU()\n",
    "        \n",
    "\n",
    "    def forward(self, x):\n",
    "        x = self.fc1(x)\n",
    "        x = self.relu1(x)\n",
    "        x = self.fc2(x)\n",
    "        x = self.sigmoid(x)\n",
    "        x = self.fc3(x)\n",
    "        x = self.relu2(x)\n",
    "        return x"
   ]
  },
  {
   "cell_type": "code",
   "execution_count": null,
   "id": "6c0fee6e",
   "metadata": {},
   "outputs": [],
   "source": []
  }
 ],
 "metadata": {
  "kernelspec": {
   "display_name": "Python 3 (ipykernel)",
   "language": "python",
   "name": "python3"
  },
  "language_info": {
   "codemirror_mode": {
    "name": "ipython",
    "version": 3
   },
   "file_extension": ".py",
   "mimetype": "text/x-python",
   "name": "python",
   "nbconvert_exporter": "python",
   "pygments_lexer": "ipython3",
   "version": "3.9.13"
  }
 },
 "nbformat": 4,
 "nbformat_minor": 5
}
